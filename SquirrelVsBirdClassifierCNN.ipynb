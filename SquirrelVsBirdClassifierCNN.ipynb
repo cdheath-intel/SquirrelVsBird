{
 "cells": [
  {
   "cell_type": "markdown",
   "metadata": {},
   "source": [
    "# Training a Model for Inferring if an Image is a Squirrel or Bird\n",
    "\n",
    "This jupyter notebook uses the [TensorFlow CNN tutorial](https://www.tensorflow.org/tutorials/images/cnn) to create a classification model for identifying if an image is shows a squirrel or bird. The model we create is used in a blog for [Intel® Deep Learning Workbench with DevCloud for the Edge](https://devcloud.intel.com/edge)."
   ]
  },
  {
   "cell_type": "code",
   "execution_count": 1,
   "metadata": {},
   "outputs": [],
   "source": [
    "import warnings\n",
    "warnings.filterwarnings('ignore') #Tensorflow has deprication warnings\n",
    "\n",
    "import tensorflow as tf\n",
    "import os\n",
    "import pickle\n",
    "import matplotlib.pyplot as plt\n",
    "import numpy as np"
   ]
  },
  {
   "cell_type": "markdown",
   "metadata": {},
   "source": [
    "### Import Dataset from Pickle\n",
    "\n",
    "The dataset pickle is a combiniation of [CalTech UCSD Birds 200_2011](http://www.vision.caltech.edu/visipedia/CUB-200-2011.html) and [Animals-10](https://www.kaggle.com/alessiocorrado99/animals10) datasets. The code to create the pickle file is in [this repository](). For the code below, the pickle file was uploaded to the executing director (SquirrelVsBirdClassifier)."
   ]
  },
  {
   "cell_type": "code",
   "execution_count": null,
   "metadata": {},
   "outputs": [],
   "source": [
    "dataset_dict = pickle.load(open('squirrelvsbirddataset_64.p','rb'))"
   ]
  },
  {
   "cell_type": "markdown",
   "metadata": {},
   "source": [
    "### Extract Training and Validation Sets from Pickle File\n",
    "The pickle file contains a dictionary with 4 keys, 'training_samples','validation_samples','training_labels',and'validation_labels'. The samples are numpy matricies representing the images. The labels are a parallel array to the samples and contain a '0' for squirrel images and a '1' for bird images."
   ]
  },
  {
   "cell_type": "code",
   "execution_count": null,
   "metadata": {},
   "outputs": [],
   "source": [
    "training_samples = np.asarray(dataset_dict['training_samples'])\n",
    "validation_samples = np.asarray(dataset_dict['validation_samples'])\n",
    "training_labels = np.asarray([x[1] for x in dataset_dict['training_labels']])\n",
    "validation_labels = np.asarray([x[1] for x in dataset_dict['validation_labels']])\n",
    "#training_samples = np.expand_dims(training_samples, axis=1)\n",
    "#validation_samples = np.expand_dims(validation_samples, axis=1)\n",
    "\n",
    "tf.keras.backend.set_floatx('float16')"
   ]
  },
  {
   "cell_type": "markdown",
   "metadata": {},
   "source": [
    "### Create Keras Model\n",
    "This code-block creates the network structure of our model."
   ]
  },
  {
   "cell_type": "code",
   "execution_count": 4,
   "metadata": {},
   "outputs": [
    {
     "name": "stdout",
     "output_type": "stream",
     "text": [
      "WARNING:tensorflow:From /usr/local/lib/python3.6/dist-packages/tensorflow_core/python/ops/resource_variable_ops.py:1630: calling BaseResourceVariable.__init__ (from tensorflow.python.ops.resource_variable_ops) with constraint is deprecated and will be removed in a future version.\n",
      "Instructions for updating:\n",
      "If using Keras pass *_constraint arguments to layers.\n",
      "Model: \"sequential\"\n",
      "_________________________________________________________________\n",
      "Layer (type)                 Output Shape              Param #   \n",
      "=================================================================\n",
      "conv2d (Conv2D)              (None, 62, 62, 64)        1792      \n",
      "_________________________________________________________________\n",
      "max_pooling2d (MaxPooling2D) (None, 31, 31, 64)        0         \n",
      "_________________________________________________________________\n",
      "conv2d_1 (Conv2D)            (None, 29, 29, 128)       73856     \n",
      "_________________________________________________________________\n",
      "max_pooling2d_1 (MaxPooling2 (None, 14, 14, 128)       0         \n",
      "_________________________________________________________________\n",
      "conv2d_2 (Conv2D)            (None, 12, 12, 128)       147584    \n",
      "_________________________________________________________________\n",
      "flatten (Flatten)            (None, 18432)             0         \n",
      "_________________________________________________________________\n",
      "dense (Dense)                (None, 128)               2359424   \n",
      "_________________________________________________________________\n",
      "dense_1 (Dense)              (None, 2)                 258       \n",
      "=================================================================\n",
      "Total params: 2,582,914\n",
      "Trainable params: 2,582,914\n",
      "Non-trainable params: 0\n",
      "_________________________________________________________________\n"
     ]
    }
   ],
   "source": [
    "#Create the network layers with Keras\n",
    "model = tf.keras.models.Sequential()\n",
    "model.add(tf.keras.layers.Conv2D(64, (3,3), activation = 'relu', input_shape = (64,64,3)))\n",
    "model.add(tf.keras.layers.MaxPooling2D((2,2)))\n",
    "model.add(tf.keras.layers.Conv2D(128, (3,3), activation = 'relu'))\n",
    "model.add(tf.keras.layers.MaxPooling2D((2,2)))\n",
    "model.add(tf.keras.layers.Conv2D(128, (3,3), activation = 'relu'))\n",
    "\n",
    "model.add(tf.keras.layers.Flatten())\n",
    "model.add(tf.keras.layers.Dense(128, activation = 'relu'))\n",
    "model.add(tf.keras.layers.Dense(2))\n",
    "\n",
    "#Display info about our model network\n",
    "model.summary()"
   ]
  },
  {
   "cell_type": "markdown",
   "metadata": {},
   "source": [
    "### Train the model\n",
    "We are training our model using an 'adam' optimizer and Sparse Categorical Cross Entropy loss function."
   ]
  },
  {
   "cell_type": "code",
   "execution_count": null,
   "metadata": {},
   "outputs": [],
   "source": [
    "model.compile(optimizer='adam',\n",
    "             loss=tf.keras.losses.SparseCategoricalCrossentropy(from_logits=True),\n",
    "             metrics=['accuracy'])\n",
    "\n",
    "history = model.fit(training_samples, training_labels, epochs=10, validation_data=(validation_samples, validation_labels))"
   ]
  },
  {
   "cell_type": "markdown",
   "metadata": {},
   "source": [
    "### Save the Model\n",
    "The final step is to save the model. Keras models are saved with the file extension 'h5'."
   ]
  },
  {
   "cell_type": "code",
   "execution_count": null,
   "metadata": {},
   "outputs": [],
   "source": [
    "#Save\n",
    "model.save('squirrelvsbird_64.h5')\n"
   ]
  }
 ],
 "metadata": {
  "kernelspec": {
   "display_name": "Python 3 (OpenVINO 2021.3)",
   "language": "python",
   "name": "c003-python_3"
  },
  "language_info": {
   "codemirror_mode": {
    "name": "ipython",
    "version": 3
   },
   "file_extension": ".py",
   "mimetype": "text/x-python",
   "name": "python",
   "nbconvert_exporter": "python",
   "pygments_lexer": "ipython3",
   "version": "3.6.9"
  }
 },
 "nbformat": 4,
 "nbformat_minor": 4
}
